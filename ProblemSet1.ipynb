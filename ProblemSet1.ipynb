{
 "cells": [
  {
   "cell_type": "markdown",
   "id": "c7690ad9",
   "metadata": {},
   "source": [
    "Problem Set 1\n"
   ]
  },
  {
   "cell_type": "markdown",
   "id": "99018692",
   "metadata": {},
   "source": [
    "Question 1\n",
    "\n",
    "\n"
   ]
  },
  {
   "cell_type": "code",
   "execution_count": 87,
   "id": "3b1993be",
   "metadata": {},
   "outputs": [
    {
     "name": "stdout",
     "output_type": "stream",
     "text": [
      "<class 'int'>\n",
      "<class 'float'>\n",
      "<class 'bool'>\n",
      "<class 'str'>\n",
      "<class 'int'>\n",
      "<class 'str'>\n",
      "<class 'str'>\n",
      "<class 'float'>\n",
      "<class 'int'>\n",
      "<class 'tuple'>\n",
      "<class 'bool'>\n",
      "3.141592653589793\n"
     ]
    }
   ],
   "source": [
    "a = 5 \n",
    "b = 5.0\n",
    "5 > 1 \n",
    "c = '5'\n",
    "d = 5 * 2\n",
    "e = '5' * 2\n",
    "f = '5' + '2'\n",
    "g = 5 / 2\n",
    "h = 5 % 2\n",
    "i = (5, 2, 2, 1)\n",
    "j = 5 == 3\n",
    "import math\n",
    "pi_value = math.pi\n",
    "print(type(a))\n",
    "print(type(b))\n",
    "print(type(5 > 1))\n",
    "print(type(c))\n",
    "print(type(d))\n",
    "print(type(e))\n",
    "print(type(f))\n",
    "print(type(g))\n",
    "print(type(h))\n",
    "print(type(i))\n",
    "print(type(j))\n",
    "print(pi_value)"
   ]
  },
  {
   "cell_type": "markdown",
   "id": "8de131a0",
   "metadata": {},
   "source": [
    "Question 2\n"
   ]
  },
  {
   "cell_type": "code",
   "execution_count": 86,
   "id": "de604074",
   "metadata": {},
   "outputs": [
    {
     "name": "stdout",
     "output_type": "stream",
     "text": [
      "34\n"
     ]
    }
   ],
   "source": [
    "word = 'Supercalifragilisticexpialidocious'\n",
    "letter_count = len(word)\n",
    "print(letter_count)"
   ]
  },
  {
   "cell_type": "code",
   "execution_count": 85,
   "id": "49b0e709",
   "metadata": {},
   "outputs": [
    {
     "name": "stdout",
     "output_type": "stream",
     "text": [
      "True\n"
     ]
    }
   ],
   "source": [
    "word = 'Supercalifragilisticexpialidocious'\n",
    "print('ice' in word)\n"
   ]
  },
  {
   "cell_type": "code",
   "execution_count": 83,
   "id": "ac8ea97e",
   "metadata": {},
   "outputs": [
    {
     "name": "stdout",
     "output_type": "stream",
     "text": [
      "The longest word is: Supercalifragilisticexpialidocious\n"
     ]
    }
   ],
   "source": [
    "word1 = \"Supercalifragilisticexpialidocious\"  # I define the first word\n",
    "word2 = \"Honorificabilitudinitatibus\"  # I define the second word\n",
    "word3 = \"Bababadalgharaghtakamminarronnkonn\"  # I define the third word\n",
    "\n",
    "longest_word = max(word1, word2, word3, key=len)  # Then Find the longest word using the max() function and the key\n",
    "\n",
    "print(\"The longest word is:\", longest_word)  # Print the longest word\n"
   ]
  },
  {
   "cell_type": "code",
   "execution_count": 15,
   "id": "45c0783a",
   "metadata": {},
   "outputs": [
    {
     "name": "stdout",
     "output_type": "stream",
     "text": [
      "The composer that comes first is: Bartok\n",
      "The composer that comes last is: Buxtehude\n"
     ]
    }
   ],
   "source": [
    "composers = ['Berlioz', 'Borodin', 'Brian', 'Bartok', 'Bellini', 'Buxtehude', 'Bernstein']\n",
    "\n",
    "# Finding the composer that comes first by using the min() function\n",
    "first_composer = min(composers)\n",
    "\n",
    "# Finding the composer that comes last by using the max() function\n",
    "last_composer = max(composers)\n",
    "\n",
    "print(\"The composer that comes first is:\", first_composer)\n",
    "print(\"The composer that comes last is:\", last_composer)\n"
   ]
  },
  {
   "cell_type": "markdown",
   "id": "8d9b42b3",
   "metadata": {},
   "source": [
    "Question 3\n"
   ]
  },
  {
   "cell_type": "code",
   "execution_count": 79,
   "id": "f1fa7f5c",
   "metadata": {},
   "outputs": [
    {
     "name": "stdout",
     "output_type": "stream",
     "text": [
      "1.7320508075688772\n"
     ]
    }
   ],
   "source": [
    "import math\n",
    "\n",
    "def triangleArea(a, b, c):\n",
    "    s = (a + b + c) / 2\n",
    "    area = math.sqrt(s * (s - a) * (s - b) * (s - c))\n",
    "    return area\n",
    "\n",
    "result = triangleArea(2, 2, 2)\n",
    "print(result)\n",
    "\n",
    "\n"
   ]
  },
  {
   "cell_type": "code",
   "execution_count": null,
   "id": "cbade009",
   "metadata": {},
   "outputs": [],
   "source": [
    "\n"
   ]
  },
  {
   "cell_type": "markdown",
   "id": "dbe5a60e",
   "metadata": {},
   "source": [
    "Question 5\n",
    "\n",
    "\n"
   ]
  },
  {
   "cell_type": "code",
   "execution_count": null,
   "id": "fa0be15f",
   "metadata": {},
   "outputs": [],
   "source": [
    "def inside(x, y, x1, y1, x2, y2):\n",
    "    if x1 <= x <= x2 and y1 <= y <= y2:\n",
    "        return True\n",
    "    else:\n",
    "        return False\n",
    "x = 1\n",
    "y = 1\n",
    "x1 = 0\n",
    "y1 = 0\n",
    "x2 = 2\n",
    "y2 = 3\n",
    "\n",
    "result = inside(x, y, x1, y1, x2, y2)\n",
    "print(result)\n"
   ]
  },
  {
   "cell_type": "code",
   "execution_count": 76,
   "id": "1daa7d54",
   "metadata": {},
   "outputs": [
    {
     "name": "stdout",
     "output_type": "stream",
     "text": [
      "False\n"
     ]
    }
   ],
   "source": [
    "def inside(x, y, x1, y1, x2, y2):\n",
    "    if x1 <= x <= x2 and y1 <= y <= y2:\n",
    "        return True\n",
    "    else:\n",
    "        return False\n",
    "\n",
    "point = (1, 1)\n",
    "rectangle1 = (0.3, 0.5, 1.1, 0.7)\n",
    "rectangle2 = (0.5, 0.2, 1.1, 2)\n",
    "\n",
    "result = inside(point[0], point[1], rectangle1[0], rectangle1[1], rectangle1[2], rectangle1[3]) and \\\n",
    "         inside(point[0], point[1], rectangle2[0], rectangle2[1], rectangle2[2], rectangle2[3])\n",
    "\n",
    "print(result)\n",
    "\n"
   ]
  },
  {
   "cell_type": "markdown",
   "id": "68932f59",
   "metadata": {},
   "source": [
    "Question 6\n"
   ]
  },
  {
   "cell_type": "code",
   "execution_count": 88,
   "id": "43a9a046",
   "metadata": {},
   "outputs": [
    {
     "name": "stdout",
     "output_type": "stream",
     "text": [
      "ythonpay\n"
     ]
    }
   ],
   "source": [
    "def pig(word):\n",
    "    vowels = \"aeiou\"\n",
    "    if word[0].lower() in vowels:\n",
    "        return word.lower() + \"way\"\n",
    "    else:\n",
    "        return word[1:].lower() + word[0].lower() + \"ay\"\n",
    "\n",
    "result = pig(\"python\")\n",
    "print(result) \n"
   ]
  },
  {
   "cell_type": "code",
   "execution_count": null,
   "id": "3e52c355",
   "metadata": {},
   "outputs": [],
   "source": []
  },
  {
   "cell_type": "markdown",
   "id": "1eb8cce3",
   "metadata": {},
   "source": [
    "Question 9"
   ]
  },
  {
   "cell_type": "code",
   "execution_count": null,
   "id": "f0f3a433",
   "metadata": {},
   "outputs": [],
   "source": [
    "result = 6 + 'a' \n",
    "#TypeError\n"
   ]
  },
  {
   "cell_type": "markdown",
   "id": "f174ff9d",
   "metadata": {},
   "source": [
    "my_list = [1, 2, 3, 4, 5, 6, 7, 8, 9, 10]\n",
    "item = my_list[11]\n",
    "#indexError\n"
   ]
  },
  {
   "cell_type": "markdown",
   "id": "5d6e69c5",
   "metadata": {},
   "source": [
    "import math\n",
    "result = math.sqrt(-1.0)\n",
    "#ValueError"
   ]
  },
  {
   "cell_type": "markdown",
   "id": "f261eecf",
   "metadata": {},
   "source": [
    "print(x)\n",
    "#NameError"
   ]
  },
  {
   "cell_type": "markdown",
   "id": "d1907bec",
   "metadata": {},
   "source": [
    "file = open('nonexistent_file.txt', 'r')\n",
    "#FileNotFoundError"
   ]
  },
  {
   "cell_type": "markdown",
   "id": "d25c3e39",
   "metadata": {},
   "source": [
    "Question 10"
   ]
  },
  {
   "cell_type": "code",
   "execution_count": 18,
   "id": "18c7235a",
   "metadata": {},
   "outputs": [
    {
     "name": "stdout",
     "output_type": "stream",
     "text": [
      "[1, 1, 1, 3, 5, 1, 1, 2, 1, 0, 1, 0, 1, 2, 4, 0, 1, 2, 0, 3, 1, 0, 1, 1, 0, 0]\n"
     ]
    }
   ],
   "source": [
    "\n",
    "def frequencies(text):\n",
    "    letters = 'abcdefghijklmnopqrstuvwxyz'\n",
    "    freq_list = [0] * len(letters)\n",
    "\n",
    "    for char in text.lower():\n",
    "        if char in letters:\n",
    "            index = letters.index(char)\n",
    "            freq_list[index] += 1\n",
    "\n",
    "    return freq_list\n",
    "\n",
    "\n",
    "result = frequencies('The quick red fox got bored and went home.')\n",
    "print(result)\n"
   ]
  },
  {
   "cell_type": "code",
   "execution_count": null,
   "id": "cd8843eb",
   "metadata": {},
   "outputs": [],
   "source": []
  },
  {
   "cell_type": "code",
   "execution_count": null,
   "id": "10023e5d",
   "metadata": {},
   "outputs": [],
   "source": []
  }
 ],
 "metadata": {
  "kernelspec": {
   "display_name": "Python 3 (ipykernel)",
   "language": "python",
   "name": "python3"
  },
  "language_info": {
   "codemirror_mode": {
    "name": "ipython",
    "version": 3
   },
   "file_extension": ".py",
   "mimetype": "text/x-python",
   "name": "python",
   "nbconvert_exporter": "python",
   "pygments_lexer": "ipython3",
   "version": "3.10.9"
  }
 },
 "nbformat": 4,
 "nbformat_minor": 5
}
